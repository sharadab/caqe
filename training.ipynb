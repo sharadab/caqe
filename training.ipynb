{
 "cells": [
  {
   "cell_type": "markdown",
   "id": "e59ec593",
   "metadata": {},
   "source": [
    "## Training a clustering/classifying model based on healthy microstructural data."
   ]
  },
  {
   "cell_type": "code",
   "execution_count": 1,
   "id": "a40a0672",
   "metadata": {},
   "outputs": [
    {
     "name": "stderr",
     "output_type": "stream",
     "text": [
      "/Users/sharada/Documents/Venvs/mri_venv_basic/lib/python3.8/site-packages/setuptools/distutils_patch.py:25: UserWarning: Distutils was imported before Setuptools. This usage is discouraged and may exhibit undesirable behaviors or errors. Please use Setuptools' objects directly or at least import Setuptools first.\n",
      "  warnings.warn(\n"
     ]
    }
   ],
   "source": [
    "import numpy as np \n",
    "from sklearn.preprocessing import StandardScaler\n",
    "import matplotlib.pyplot as plt\n",
    "from matplotlib.gridspec import GridSpec\n",
    "import seaborn as sns\n",
    "import pandas as pd\n",
    "import nibabel as nib\n",
    "from skops.io import dump, load\n",
    "import sklearn.metrics as metrics\n",
    "import skfuzzy as fuzz\n",
    "from sklearn.neighbors import KNeighborsClassifier\n",
    "import time\n",
    "\n",
    "## First set up base folder where all the data lives\n",
    "base_folder = \"/Users/sharada/Documents/Projects/MDDE/V3/\""
   ]
  },
  {
   "cell_type": "markdown",
   "id": "f6803db6",
   "metadata": {},
   "source": [
    "### Load in all the microstructure maps from all the healthy controls. \n",
    "### Requires that maps are registered to the same space for each subject (e.g. MWF, uFA and CMD maps are all registered together for each subject), and that for every subject there is a brain mask that excludes CSF. Run processing/initial_processing_hc.sh, see example_processing_usage.sh for usage."
   ]
  },
  {
   "cell_type": "markdown",
   "id": "2bcaf1ad",
   "metadata": {},
   "source": [
    "### This is an example of splitting the whole healthy dataset up into a training (75-80% of the data) and testing set and iterating through different cluster numbers to find the \"best\" one."
   ]
  },
  {
   "cell_type": "code",
   "execution_count": 4,
   "id": "22ae83e2",
   "metadata": {},
   "outputs": [
    {
     "name": "stdout",
     "output_type": "stream",
     "text": [
      "Training: YEG_CONTROL\n",
      "Training: LOBSTR_C011\n",
      "Training: LOBSTR_C018\n",
      "Training: LOBSTR_C019\n",
      "Training: LOBSTR_C036\n",
      "Training: LOBSTR_C037\n",
      "Training: REPRO_C01\n",
      "Training: REPRO_C02\n",
      "Training: REPRO_C03\n",
      "Training: REPRO_C04\n",
      "Training: REPRO_C05\n",
      "Training: REPRO_C07\n",
      "Training: LOBSTR_C029\n",
      "Training: LOBSTR_C023\n",
      "Training: LOBSTR_C009\n",
      "Training: LOBSTR_C038\n",
      "Training: LOBSTR_C017\n",
      "Training: LOBSTR_C025\n",
      "Training: LOBSTR_C014\n",
      "Training: LOBSTR_C028\n"
     ]
    }
   ],
   "source": [
    "## Empty dataframes to hold all subject's data, one dataframe per metric. Can expand as needed.\n",
    "df_train = pd.DataFrame()\n",
    "df_train['img_1'] = 0\n",
    "df_train['img_2'] = 0\n",
    "df_train['img_3'] = 0\n",
    "\n",
    "## All the healthy controls we will use. \n",
    "subject_list = [\"YEG_CONTROL\", \"LOBSTR_C011\", \"LOBSTR_C018\", \"LOBSTR_C019\", \"LOBSTR_C036\", \"LOBSTR_C037\",\n",
    "                \"REPRO_C01\", \"REPRO_C02\", \"REPRO_C03\", \"REPRO_C04\", \"REPRO_C05\", \"REPRO_C07\", \n",
    "                \"LOBSTR_C029\", \"LOBSTR_C023\", \"LOBSTR_C009\", \"LOBSTR_C038\", \"LOBSTR_C017\", \"LOBSTR_C025\",\n",
    "                \"LOBSTR_C014\", \"LOBSTR_C028\", \"LOBSTR_C020\", \"LOBSTR_C035\", \"LOBSTR_C006\", \"LOBSTR_C007\",\n",
    "                \"LOBSTR_C012\"]   \n",
    "\n",
    "test_subject_list = [\"LOBSTR_C020\", \"LOBSTR_C035\", \"LOBSTR_C006\", \"LOBSTR_C007\", \"LOBSTR_C012\"]\n",
    "\n",
    "#Load in each training subject's data\n",
    "for subject in subject_list:\n",
    "    if subject not in test_subject_list:\n",
    "        ##Names of folders\n",
    "        folder_mask = base_folder + subject + \"/ants/CALIPR/\" ##Folder containing the brain mask that excludes CSF\n",
    "        folder_metrics_mwf = base_folder + subject + \"/ants/CALIPR/\" ##Folder containing the MWF map for the subject\n",
    "        folder_metrics_tvde = base_folder + subject + \"/ants/CALIPR_MDD/\" ##Folder containing the uFA, CMD maps for the subject (registered to MWF space)\n",
    "        folder_clustering = base_folder + subject + \"/clustering_outputs/\" ##Folder where clustering output will go\n",
    "\n",
    "        ##Load in data\n",
    "        mask = nib.load(folder_mask+\"mask_no_csf.nii.gz\").get_fdata()  ##Whole brain excluding CSF\n",
    "        img_data_1 = nib.load(folder_metrics_tvde+\"ufa.nii.gz\").get_fdata()  ##uFA map\n",
    "        img_data_2 = nib.load(folder_metrics_tvde+\"cmd.nii.gz\").get_fdata()  ##C_MD map\n",
    "        img_data_3 = nib.load(folder_metrics_mwf+\"MWF_brain_ero.nii.gz\").get_fdata()  ##MWF map\n",
    "\n",
    "        ##Wherever the mask is 1, take only that metric data into account. We \n",
    "        img_1_nonzero = img_data_1[mask == 1]\n",
    "        img_2_nonzero = img_data_2[mask == 1]\n",
    "        img_3_nonzero = img_data_3[mask == 1]\n",
    "\n",
    "        print(\"Training: \" + subject)\n",
    "\n",
    "        ##Stick all of these into a dataframe for processing.\n",
    "        df1 = pd.DataFrame() ##Temporary holder\n",
    "        df1['img_1'] = img_1_nonzero\n",
    "        df1['img_2'] = img_2_nonzero\n",
    "        df1['img_3'] = img_3_nonzero\n",
    "        df_train = pd.concat([df_train, df1]) ##Concatenate into main container"
   ]
  },
  {
   "cell_type": "markdown",
   "id": "b1c694fb",
   "metadata": {},
   "source": [
    "### Next we scale the big training dataset (centred around 0, normal distribution with unit stdev) and cluster with a range of cluster numbers (k-values). For each, we make and save a classifier model that can be applied to other datasets."
   ]
  },
  {
   "cell_type": "code",
   "execution_count": 4,
   "id": "a7b8de90",
   "metadata": {
    "scrolled": true
   },
   "outputs": [
    {
     "name": "stdout",
     "output_type": "stream",
     "text": [
      "2 Clusters Done\n",
      "3 Clusters Done\n",
      "4 Clusters Done\n",
      "5 Clusters Done\n",
      "6 Clusters Done\n",
      "7 Clusters Done\n",
      "8 Clusters Done\n",
      "9 Clusters Done\n",
      "3484.5423259735107\n"
     ]
    }
   ],
   "source": [
    "##Scale the data (to be normalized). Important since the different microstructural measures will have different dynamic ranges.\n",
    "scaler = StandardScaler().fit(df_train)\n",
    "scaled_data = scaler.transform(df_train)\n",
    "print(scaled_data.shape)\n",
    "\n",
    "##Build and save models that you can apply later to test other datasets.\n",
    "start_time = time.time()\n",
    "\n",
    "##This is the number of clusters, can iterate through multiple and check Calinski-Harabasz, Davies-Bouldin, Dunn, Silhouette etc scores to judge their goodness.\n",
    "k_vals = [2, 3, 4, 5, 6, 7, 8, 9]\n",
    "knns_stored = []\n",
    "\n",
    "##Loop for running through multiple k values (if needed)\n",
    "for i in k_vals:\n",
    "    ##Fuzzy C-Means clustering of the scaled data\n",
    "    cntr, u, u0, d, jm, p, fpc = fuzz.cluster.cmeans(\n",
    "        scaled_data.T, i, 2, error=0.005, maxiter=100, init=None)\n",
    "    \n",
    "    ##Take the highest membership probability for each datapoint\n",
    "    labeled_0 = np.argmax(u, axis=0) \n",
    "\n",
    "    ##Classify the data based on labels generated from clustering. This will be our model.\n",
    "    knn = KNeighborsClassifier(n_neighbors=9, weights='uniform').fit(scaled_data, labeled_0)\n",
    "    \n",
    "    ##Save this model (the classifier) using skops.io, can later re-load it whenever necessary and classify other new data.\n",
    "    ##This will save us having to re-classify every single time and hold it in memory.\n",
    "    dump(knn, \"model_{}clusters.skops\".format(i))\n",
    "    print(\"{} Clusters Done\".format(i))\n",
    "\n",
    "print(time.time() - start_time)"
   ]
  },
  {
   "cell_type": "markdown",
   "id": "db342158",
   "metadata": {},
   "source": [
    "### If you iterated through several k-values and want to test their \"goodness\", see below.\n",
    "\n",
    "### Here we take 5 test subjects (ideally not part of the training set!!!), apply each of the classifier models in turn to each test dataset and calculate scores to determine goodness of clustering."
   ]
  },
  {
   "cell_type": "code",
   "execution_count": 6,
   "id": "55ca0362",
   "metadata": {},
   "outputs": [
    {
     "name": "stdout",
     "output_type": "stream",
     "text": [
      "Testing: LOBSTR_P072\n",
      "KNeighborsClassifier(n_neighbors=9)\n",
      "KNeighborsClassifier(n_neighbors=9)\n",
      "KNeighborsClassifier(n_neighbors=9)\n",
      "KNeighborsClassifier(n_neighbors=9)\n",
      "KNeighborsClassifier(n_neighbors=9)\n",
      "KNeighborsClassifier(n_neighbors=9)\n",
      "KNeighborsClassifier(n_neighbors=9)\n",
      "KNeighborsClassifier(n_neighbors=9)\n",
      "   K       CH_score  DB_score\n",
      "0  2  690080.515937  1.021634\n",
      "1  3  537013.935323    1.2316\n",
      "2  4  499495.153838  1.121467\n",
      "3  5  440995.912546  1.203158\n",
      "4  6  416176.538904  1.146111\n",
      "5  7  382962.308621  1.258915\n",
      "6  8  371944.946611  1.173466\n",
      "7  9  349317.955308  1.247983\n",
      "Testing: LOBSTR_P085\n",
      "KNeighborsClassifier(n_neighbors=9)\n",
      "KNeighborsClassifier(n_neighbors=9)\n",
      "KNeighborsClassifier(n_neighbors=9)\n",
      "KNeighborsClassifier(n_neighbors=9)\n",
      "KNeighborsClassifier(n_neighbors=9)\n",
      "KNeighborsClassifier(n_neighbors=9)\n",
      "KNeighborsClassifier(n_neighbors=9)\n",
      "KNeighborsClassifier(n_neighbors=9)\n",
      "   K       CH_score  DB_score\n",
      "0  2  515948.009173  1.220088\n",
      "1  3  445214.967342  1.351397\n",
      "2  4  429348.212579  1.148669\n",
      "3  5  365386.611356  1.274225\n",
      "4  6   345290.17144  1.227288\n",
      "5  7  325899.240318   1.30397\n",
      "6  8  309290.764122  1.204282\n",
      "7  9  296049.591715  1.250715\n",
      "Testing: LOBSTR_P087\n",
      "KNeighborsClassifier(n_neighbors=9)\n",
      "KNeighborsClassifier(n_neighbors=9)\n",
      "KNeighborsClassifier(n_neighbors=9)\n",
      "KNeighborsClassifier(n_neighbors=9)\n",
      "KNeighborsClassifier(n_neighbors=9)\n",
      "KNeighborsClassifier(n_neighbors=9)\n",
      "KNeighborsClassifier(n_neighbors=9)\n",
      "KNeighborsClassifier(n_neighbors=9)\n",
      "   K       CH_score  DB_score\n",
      "0  2  544992.852216  1.256494\n",
      "1  3  462881.813432  1.334997\n",
      "2  4  425183.165687  1.256822\n",
      "3  5  394059.142817  1.266702\n",
      "4  6  382497.988439  1.207445\n",
      "5  7  366203.241105  1.201963\n",
      "6  8  347608.752243  1.216041\n",
      "7  9  326091.576848  1.274482\n",
      "Testing: LOBSTR_P027\n",
      "KNeighborsClassifier(n_neighbors=9)\n",
      "KNeighborsClassifier(n_neighbors=9)\n",
      "KNeighborsClassifier(n_neighbors=9)\n",
      "KNeighborsClassifier(n_neighbors=9)\n",
      "KNeighborsClassifier(n_neighbors=9)\n",
      "KNeighborsClassifier(n_neighbors=9)\n",
      "KNeighborsClassifier(n_neighbors=9)\n",
      "KNeighborsClassifier(n_neighbors=9)\n",
      "   K       CH_score  DB_score\n",
      "0  2   557250.87685   1.17372\n",
      "1  3  499513.389463  1.253354\n",
      "2  4  469386.468374  1.134613\n",
      "3  5  408214.262656  1.238158\n",
      "4  6  387021.986057  1.194356\n",
      "5  7  368697.946764  1.205245\n",
      "6  8  348180.229258  1.183485\n",
      "7  9  329356.437518  1.252466\n",
      "Testing: LOBSTR_P035\n",
      "KNeighborsClassifier(n_neighbors=9)\n",
      "KNeighborsClassifier(n_neighbors=9)\n",
      "KNeighborsClassifier(n_neighbors=9)\n",
      "KNeighborsClassifier(n_neighbors=9)\n",
      "KNeighborsClassifier(n_neighbors=9)\n",
      "KNeighborsClassifier(n_neighbors=9)\n",
      "KNeighborsClassifier(n_neighbors=9)\n",
      "KNeighborsClassifier(n_neighbors=9)\n",
      "   K       CH_score  DB_score\n",
      "0  2  714295.602143  1.127267\n",
      "1  3  597049.197237  1.263154\n",
      "2  4  564291.219683  1.135869\n",
      "3  5  501848.627758   1.20857\n",
      "4  6  479187.902586  1.148089\n",
      "5  7  445474.665584  1.234961\n",
      "6  8    428807.6784  1.159768\n",
      "7  9  401854.616669  1.245253\n"
     ]
    }
   ],
   "source": [
    "##A set of test subjects (ideally they are not part of the training set)\n",
    "test_subject_list = [\"LOBSTR_C020\", \"LOBSTR_C035\", \"LOBSTR_C006\", \"LOBSTR_C007\", \"LOBSTR_C012\"]\n",
    "\n",
    "##A list of trained models if you looped through several\n",
    "trained_models = ['model_2clusters.skops', 'model_3clusters.skops', 'model_4clusters.skops', 'model_5clusters.skops', 'model_6clusters.skops', 'model_7clusters.skops', 'model_8clusters.skops', 'model_9clusters.skops']\n",
    "cluster_numbers = [2, 3, 4, 5, 6, 7, 8, 9] ##Keep track of how many clusters each model does.\n",
    "\n",
    "##Iterate through subjects\n",
    "for subject in test_subject_list:\n",
    "\n",
    "    ##Set up folders\n",
    "    folder_mask = base_folder + subject + \"/ants/CALIPR/\" ##Location of whole-brain mask excluding CSF\n",
    "    folder_metrics_mwf = base_folder + subject + \"/ants/CALIPR/\" ##Location of MWF map\n",
    "    folder_metrics_tvde = base_folder + subject + \"/ants/CALIPR_MDD/\" ##Location of uFA and CMD maps registered to MWF space\n",
    "    folder_clustering = base_folder + subject + \"/clustering_outputs_test/\" ##Location of clustering outputs for testing\n",
    "    !mkdir {folder_clustering}\n",
    "\n",
    "    img_mask = nib.load(folder_mask+\"mask_no_csf.nii.gz\")\n",
    "    mask = nib.load(folder_mask+\"mask_no_csf.nii.gz\").get_fdata()  #Whole-brain mask excluding CSF\n",
    "    img_data_1 = nib.load(folder_metrics_tvde+\"ufa.nii.gz\").get_fdata()  #uFA \n",
    "    img_data_2 = nib.load(folder_metrics_tvde+\"cmd.nii.gz\").get_fdata()  #C_MD\n",
    "    img_data_3 = nib.load(folder_metrics_mwf+\"MWF_brain_ero.nii.gz\").get_fdata()  #MWF\n",
    "\n",
    "    ##Wherever the mask is 1, take only that metric data into account.\n",
    "    img_1_nonzero = img_data_1[mask == 1]\n",
    "    img_2_nonzero = img_data_2[mask == 1]\n",
    "    img_3_nonzero = img_data_3[mask == 1]\n",
    "\n",
    "    print(\"Testing: \" + subject)\n",
    "\n",
    "    ##Stick all of these into a dataframe for processing.\n",
    "    df_test = pd.DataFrame() #Make it fresh each time!\n",
    "    df_test['img_1'] = img_1_nonzero\n",
    "    df_test['img_2'] = img_2_nonzero\n",
    "    df_test['img_3'] = img_3_nonzero\n",
    "\n",
    "    ##Scale the test dataset as we did with the training set\n",
    "    scaler_test = StandardScaler().fit(df_test)\n",
    "    scaled_data_test = scaler_test.transform(df_test)\n",
    "\n",
    "    ###Calculate and store metrics\n",
    "    columns = ['K', 'CH_score', 'DB_score']\n",
    "    df_scores = pd.DataFrame(columns=columns, index=np.arange(len(trained_models)))\n",
    "    i = 0\n",
    "\n",
    "    ##Load in the pre-trained model one by one and run on the data\n",
    "    for model in trained_models:\n",
    "        loaded_knn = load(model, trusted=True) ##Load in the saved classifier\n",
    "\n",
    "        ##Run the classifier on our data\n",
    "        labeled_test = loaded_knn.predict(scaled_data_test)\n",
    "\n",
    "        #Now transform the labels back into the shape of a NIFTI and convert it to a NIFTI.\n",
    "        reshaped_labels = mask.copy()\n",
    "        reshaped_labels[mask==1] = labeled_test + 1 #Adding the +1 because labels are 0,1,2... and it gets confusing to look at a 0 region on FSL!\n",
    "        new_header = img_mask.header.copy()\n",
    "        ni_img = nib.Nifti1Image(reshaped_labels, None, header=new_header)\n",
    "        nib.save(ni_img, folder_clustering+\"new_labels_fuzzc_knn{}.nii.gz\".format(cluster_numbers[i])) ##Save as NIFTI\n",
    "\n",
    "        ##Calculate Calinski-Harabasz and Davies-Bouldin scores and store it for each subject, for each classifier model.\n",
    "        df_scores.loc[i,'K'] = cluster_numbers[i]\n",
    "        df_scores.loc[i,'CH_score'] = metrics.calinski_harabasz_score(scaled_data_test, labeled_test)\n",
    "        df_scores.loc[i,'DB_score'] = metrics.davies_bouldin_score(scaled_data_test, labeled_test)\n",
    "        i = i + 1\n",
    "\n",
    "    print(df_scores)\n",
    "    df_scores.to_csv(folder_clustering+'test_scores.csv', index=False) ##Save scores from all subjects into one CSV.\n",
    "    "
   ]
  },
  {
   "cell_type": "markdown",
   "id": "fe821eb7",
   "metadata": {},
   "source": [
    "### Once you have Calinski-Harabasz and Davies-Bouldin scores for everyone, plot them out. \n",
    "### With C-H we look for higher scores (lower between-cluster dispersion), for D-B we look for lower scores (lower within-cluster distance). A good combination of both is a good cluster... but also need to check if it visibly makes sense!\n",
    "### C-H and D-B are not the only scores that exist!"
   ]
  },
  {
   "cell_type": "code",
   "execution_count": 7,
   "id": "8e829c70",
   "metadata": {},
   "outputs": [
    {
     "data": {
      "text/plain": [
       "Text(0, 0.5, 'Davies-Bouldin scores')"
      ]
     },
     "execution_count": 7,
     "metadata": {},
     "output_type": "execute_result"
    },
    {
     "data": {
      "image/png": "[encoded data removed]",
      "text/plain": [
       "<Figure size 432x288 with 2 Axes>"
      ]
     },
     "metadata": {
      "needs_background": "light"
     },
     "output_type": "display_data"
    }
   ],
   "source": [
    "##Make plots of CH, DB scores \n",
    "test_subject_list = [\"YEG_CONTROL\", \"LOBSTR_C011\", \"LOBSTR_C018\", \"LOBSTR_C019\", \"LOBSTR_C036\"]\n",
    "total_scores = pd.DataFrame()\n",
    "\n",
    "##Load in everyone's test scores into one big dataframe that we can then plot out\n",
    "for subject in test_subject_list:\n",
    "    folder_clustering = base_folder + subject + \"/clustering_outputs_test/\"\n",
    "    data = pd.read_csv(folder_clustering+'test_scores.csv')\n",
    "    data.dropna(inplace=True)\n",
    "    subjectname = np.repeat(subject, len(data))\n",
    "\n",
    "    total_scores_temp = pd.DataFrame()\n",
    "    total_scores_temp['K'] = data['K']\n",
    "    total_scores_temp['CH_score'] = data['CH_score']/(data['CH_score'].max())\n",
    "    total_scores_temp['DB_score'] = data['DB_score']/(data['DB_score'].max())\n",
    "    total_scores_temp['Subject'] = subjectname\n",
    "    total_scores = pd.concat([total_scores, total_scores_temp])\n",
    "\n",
    "#print(total_scores)\n",
    "\n",
    "##Make separate holders for average CH and DB scores to plot along with the everyone-included scores\n",
    "cols = ['K', 'CH_score']\n",
    "avg_ch_score = pd.DataFrame(columns=cols, index=[2,3,4,5,6,7,8,9])\n",
    "for i in range(2, len(data)+2):\n",
    "    avg_ch_score.loc[i, 'K'] = i\n",
    "    avg_ch_score.loc[i, 'CH_score'] = total_scores[total_scores['K']==i]['CH_score'].mean()\n",
    "\n",
    "\n",
    "cols = ['K', 'DB_score']\n",
    "avg_db_score = pd.DataFrame(columns=cols, index=[2,3,4,5,6,7,8,9])\n",
    "for i in range(2, len(data)+2):\n",
    "    avg_db_score.loc[i, 'K'] = i\n",
    "    avg_db_score.loc[i, 'DB_score'] = total_scores[total_scores['K']==i]['DB_score'].mean()\n",
    "\n",
    "fig = plt.figure()\n",
    "gs = GridSpec(2, 1, figure=fig)\n",
    "ax1 = fig.add_subplot(gs[0])\n",
    "ax2 = fig.add_subplot(gs[1])\n",
    "\n",
    "g = sns.lineplot(ax=ax1, data=total_scores, x='K', y='CH_score', hue='Subject', legend=False, marker='o', alpha=0.3)\n",
    "sns.lineplot(ax=ax1, data=avg_ch_score, x='K', y='CH_score',legend=False, marker='o', color='black')\n",
    "sns.lineplot(ax=ax2, data=total_scores, x='K', y='DB_score', hue='Subject', legend=False, marker='o', alpha=0.3)\n",
    "sns.lineplot(ax=ax2, data=avg_db_score, x='K', y='DB_score', legend=False, marker='o', color='black')\n",
    "g.set_title('Clustering scores')\n",
    "ax1.set_ylabel('Calinski-Harabasz scores')\n",
    "ax2.set_ylabel('Davies-Bouldin scores')"
   ]
  },
  {
   "cell_type": "markdown",
   "id": "6176929d",
   "metadata": {},
   "source": [
    "### You can iterate through the testing/training subjects and look at these scores and also evaluate the resulting tissue classification maps. Once you're happy with the cluster number, repeat the steps above with ALL the data (and no \"test set\"), and save a model with the best number of clusters. This classifier can then be used on the metric atlases and all MS subjects."
   ]
  },
  {
   "cell_type": "markdown",
   "id": "6ef75c4e",
   "metadata": {},
   "source": []
  }
 ],
 "metadata": {
  "kernelspec": {
   "display_name": "Python 3 (ipykernel)",
   "language": "python",
   "name": "python3"
  },
  "language_info": {
   "codemirror_mode": {
    "name": "ipython",
    "version": 3
   },
   "file_extension": ".py",
   "mimetype": "text/x-python",
   "name": "python",
   "nbconvert_exporter": "python",
   "pygments_lexer": "ipython3",
   "version": "3.8.9"
  }
 },
 "nbformat": 4,
 "nbformat_minor": 5
}
