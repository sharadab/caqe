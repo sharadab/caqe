{
 "cells": [
  {
   "cell_type": "markdown",
   "id": "0c47be23",
   "metadata": {},
   "source": [
    "## We can assess our metrics to see if they may be good for clustering."
   ]
  },
  {
   "cell_type": "code",
   "execution_count": 6,
   "id": "bf1cc2bb",
   "metadata": {},
   "outputs": [],
   "source": [
    "import numpy as np \n",
    "from sklearn.decomposition import PCA \n",
    "from sklearn.preprocessing import StandardScaler\n",
    "import matplotlib.pyplot as plt\n",
    "from matplotlib.gridspec import GridSpec\n",
    "import seaborn as sns\n",
    "import pandas as pd\n",
    "import nibabel as nib\n",
    "import sklearn.metrics as metrics\n",
    "import skfuzzy as fuzz\n",
    "from pca import pca\n",
    "\n",
    "## Define folder where data lives right off the bat\n",
    "base_folder = \"/Users/sharada/Documents/Projects/MDDE/V3/\""
   ]
  },
  {
   "cell_type": "markdown",
   "id": "76f9abc3",
   "metadata": {},
   "source": [
    "### Here we want to assess our data and whether any components are redundant or the metrics we are considering are largely complementary."
   ]
  },
  {
   "cell_type": "code",
   "execution_count": 5,
   "id": "0eaa31a1",
   "metadata": {},
   "outputs": [
    {
     "name": "stdout",
     "output_type": "stream",
     "text": [
      "Putting together data from: YEG_CONTROL\n",
      "Putting together data from: LOBSTR_C011\n",
      "Putting together data from: LOBSTR_C018\n",
      "Putting together data from: LOBSTR_C019\n",
      "Putting together data from: LOBSTR_C036\n",
      "Putting together data from: LOBSTR_C037\n",
      "Putting together data from: REPRO_C01\n",
      "Putting together data from: REPRO_C02\n",
      "Putting together data from: REPRO_C03\n",
      "Putting together data from: REPRO_C04\n",
      "Putting together data from: REPRO_C05\n",
      "Putting together data from: REPRO_C07\n",
      "Putting together data from: LOBSTR_C029\n",
      "Putting together data from: LOBSTR_C023\n",
      "Putting together data from: LOBSTR_C009\n",
      "Putting together data from: LOBSTR_C038\n",
      "Putting together data from: LOBSTR_C017\n",
      "Putting together data from: LOBSTR_C025\n",
      "Putting together data from: LOBSTR_C014\n",
      "Putting together data from: LOBSTR_C028\n",
      "Putting together data from: LOBSTR_C020\n",
      "Putting together data from: LOBSTR_C035\n",
      "Putting together data from: LOBSTR_C006\n",
      "Putting together data from: LOBSTR_C007\n",
      "Putting together data from: LOBSTR_C012\n",
      "            img_1     img_2     img_3\n",
      "0        0.216574  0.093542  0.094269\n",
      "1        0.215017  0.096025  0.118300\n",
      "2        0.215660  0.096362  0.088885\n",
      "3        0.209719  0.097562  0.062757\n",
      "4        0.203804  0.098756  0.059990\n",
      "...           ...       ...       ...\n",
      "1096098  0.217208  0.087871  0.128146\n",
      "1096099  0.262317  0.021536  0.106559\n",
      "1096100  0.234142  0.058362  0.097097\n",
      "1096101  0.292837  0.024468  0.143278\n",
      "1096102  0.210751  0.028031  0.143979\n",
      "\n",
      "[22964733 rows x 3 columns]\n"
     ]
    }
   ],
   "source": [
    "#Empty dataframes to hold all subject's data, one dataframe per metric. Can expand as needed.\n",
    "df = pd.DataFrame()\n",
    "df['img_1'] = 0\n",
    "df['img_2'] = 0\n",
    "df['img_3'] = 0\n",
    "\n",
    "subject_list = [\"YEG_CONTROL\", \"LOBSTR_C011\", \"LOBSTR_C018\", \"LOBSTR_C019\", \"LOBSTR_C036\", \"LOBSTR_C037\",\n",
    "                \"REPRO_C01\", \"REPRO_C02\", \"REPRO_C03\", \"REPRO_C04\", \"REPRO_C05\", \"REPRO_C07\", \n",
    "                \"LOBSTR_C029\", \"LOBSTR_C023\", \"LOBSTR_C009\", \"LOBSTR_C038\", \"LOBSTR_C017\", \"LOBSTR_C025\",\n",
    "                \"LOBSTR_C014\", \"LOBSTR_C028\", \"LOBSTR_C020\", \"LOBSTR_C035\", \"LOBSTR_C006\", \"LOBSTR_C007\",\n",
    "                \"LOBSTR_C012\"]   \n",
    "\n",
    "#Load in each subject's data\n",
    "for subject in subject_list:\n",
    "\n",
    "    ##Names of folders\n",
    "    folder_mask = base_folder + subject + \"/ants/CALIPR/\" ##Folder containing the brain mask that excludes CSF\n",
    "    folder_metrics_mwf = base_folder + subject + \"/ants/CALIPR/\" ##Folder containing the MWF map for the subject\n",
    "    folder_metrics_tvde = base_folder + subject + \"/ants/CALIPR_MDD/\" ##Folder containing the uFA, CMD maps for the subject (registered to MWF space)\n",
    "    folder_clustering = base_folder + subject + \"/clustering_outputs/\" ##Folder where clustering output will go\n",
    "\n",
    "    ##Load in data\n",
    "    mask = nib.load(folder_mask+\"mask_no_csf.nii.gz\").get_fdata()  ##Whole brain excluding CSF\n",
    "    img_data_1 = nib.load(folder_metrics_tvde+\"ufa.nii.gz\").get_fdata()  ##uFA map\n",
    "    img_data_2 = nib.load(folder_metrics_tvde+\"cmd.nii.gz\").get_fdata()  ##C_MD map\n",
    "    img_data_3 = nib.load(folder_metrics_mwf+\"MWF_brain_ero.nii.gz\").get_fdata()  ##MWF map\n",
    "\n",
    "    ##Wherever the mask is 1, take only that metric data into account.\n",
    "    img_1_nonzero = img_data_1[mask == 1]\n",
    "    img_2_nonzero = img_data_2[mask == 1]\n",
    "    img_3_nonzero = img_data_3[mask == 1]\n",
    "\n",
    "    print(\"Putting together data from: \" + subject)\n",
    "\n",
    "    ##Stick all of these into a dataframe for processing.\n",
    "    df1 = pd.DataFrame() ##Temporary holder\n",
    "    df1['img_1'] = img_1_nonzero\n",
    "    df1['img_2'] = img_2_nonzero\n",
    "    df1['img_3'] = img_3_nonzero\n",
    "    df = pd.concat([df, df1]) ##Concatenate into main container\n",
    "\n",
    "print(df)\n"
   ]
  },
  {
   "cell_type": "markdown",
   "id": "38a9f1b9",
   "metadata": {},
   "source": [
    "### Scale the data, perform PCA, get explained variance ratio, covariance matrix, eigenvalues and eigenvectors."
   ]
  },
  {
   "cell_type": "code",
   "execution_count": 7,
   "id": "4f869103",
   "metadata": {},
   "outputs": [
    {
     "name": "stdout",
     "output_type": "stream",
     "text": [
      "Data Shape: (22964733, 3)\n",
      "\n",
      "Explained Variance Ratio: [0.55537115 0.31651619 0.12811267]\n",
      "\n",
      "Singular Values: [6185.6164026  4669.70331642 2970.8954301 ]\n",
      "\n",
      "Covariance:\n",
      "[[ 1.00000004 -0.61222018  0.16558658]\n",
      " [-0.61222018  1.00000004 -0.10204728]\n",
      " [ 0.16558658 -0.10204728  1.00000004]]\n",
      "\n",
      "[[-0.68684278  0.7133159  -0.13938226]\n",
      " [ 0.67322978  0.69666848  0.24781988]\n",
      " [-0.27387708 -0.07637701  0.95872723]]\n",
      "[1.66611351 0.38433802 0.9495486 ]\n",
      "Eigenpair 1:\n",
      "1.6661135117994694 [-0.68684278  0.67322978 -0.27387708]\n",
      "\n",
      "Eigenpair 2:\n",
      "0.38433802130186695 [ 0.7133159   0.69666848 -0.07637701]\n",
      "\n",
      "Eigenpair 3:\n",
      "0.9495485975337705 [-0.13938226  0.24781988  0.95872723]\n",
      "\n",
      "0.38433802130186695\n",
      "[[ 0.68684278 -0.67322978  0.27387708]\n",
      " [-0.13938226  0.24781988  0.95872723]\n",
      " [-0.7133159  -0.69666848  0.07637701]]\n",
      "[1.55086269 1.62475043 1.39602299]\n",
      "Importance of metric1, 2, 3: [0.33923581 0.35539802 0.30536617]\n",
      "PC1 is composed of -0.69 of μFA, 0.67 of C_md, and -0.27 of MWF\n",
      "PC2 is composed of -0.14 of μFA, 0.25 of C_md, and 0.96 of MWF\n",
      "PC3 is composed of 0.71 of μFA, 0.7 of C_md, and -0.08 of MWF\n"
     ]
    }
   ],
   "source": [
    "scaler = StandardScaler().fit(df)\n",
    "scaled_data = scaler.transform(df)\n",
    "print(\"Data Shape: {}\\n\".format(scaled_data.shape))\n",
    "# print(scaled_data[0:5,:])  # Sanity check that each row is what it should be\n",
    "\n",
    "pca = PCA(n_components=3) #Was 3\n",
    "pca.fit_transform(scaled_data)\n",
    "print(\"Explained Variance Ratio: {}\\n\".format(pca.explained_variance_ratio_))\n",
    "print(\"Singular Values: {}\\n\".format(pca.singular_values_))\n",
    "\n",
    "Cov = pca.get_covariance()\n",
    "print(\"Covariance:\\n{}\\n\".format(Cov)) ##This is actually the correlation matrix, which would be useful to show probably.\n",
    "\n",
    "Λ, V = np.linalg.eig(Cov)\n",
    "print(V)\n",
    "print(Λ)\n",
    "print(\"Eigenpair 1:\\n{} {}\\n\".format(Λ[0], V[:,0]))\n",
    "print(\"Eigenpair 2:\\n{} {}\\n\".format(Λ[1], V[:,1]))\n",
    "print(\"Eigenpair 3:\\n{} {}\\n\".format(Λ[2], V[:,2]))\n",
    "\n",
    "Λ = Λ.tolist()\n",
    "a = round(V[0,Λ.index(max(Λ))], 2)\n",
    "b = round(V[1,Λ.index(max(Λ))], 2)\n",
    "c = round(V[2,Λ.index(max(Λ))], 2)\n",
    "\n",
    "L = Λ.copy()\n",
    "del L[L.index(max(L))] #Remove the highest eigval\n",
    "d = round(V[0,Λ.index(max(L))], 2)\n",
    "e = round(V[1,Λ.index(max(L))], 2)\n",
    "f = round(V[2,Λ.index(max(L))], 2)\n",
    "\n",
    "M = Λ.copy()\n",
    "del M[M.index(max(M))] #remove the top two highest eigvals so you are only left with the last one\n",
    "del M[M.index(max(M))]\n",
    "g = round(V[0,Λ.index(max(M))], 2)\n",
    "h = round(V[1,Λ.index(max(M))], 2)\n",
    "i = round(V[2,Λ.index(max(M))], 2)\n",
    "print(max(M))\n",
    "\n",
    "\n",
    "## Eigenvectors are columns of pca.components_ and are necessarily perpendicular.\n",
    "\n",
    "\n",
    "## From https://stackoverflow.com/questions/67199869/measure-of-feature-importance-in-pca \n",
    "#ev = np.abs(pca.components_.T).dot(pca.explained_variance_ratio_) #Importance of each of MWF/uFA/CMD weighted by explained variance ratio of the PCs\n",
    "#ttl_ev = pca.explained_variance_ratio_.sum()*ev/ev.sum() #This scales it I think? Like normalizes to 1.\n",
    "##Careful with the transpose. You don't want it!\n",
    "##Think of the matrix as 3 colums of eigenvectors. The \"explained variance\" (ie variance of cov matrix, ie variance along each eigvec) is the eigenvalues.\n",
    "##Here we take the dot product between the eigvec matrix and eigvals to see how important each of the original dimensions are. \n",
    "ev = np.abs(pca.components_.T).dot(pca.explained_variance_) #Importance of each of MWF/uFA/CMD weighted by explained variance (ie eigenvalues) of the PCs\n",
    "ttl_ev = ev/ev.sum() #This normalizes to 1.\n",
    "print(pca.components_)\n",
    "print(ev)\n",
    "print('Importance of metric1, 2, 3:', ttl_ev)\n",
    "\n",
    "\n",
    "\n",
    "print(\"PC1 is composed of {} of μFA, {} of C_md, and {} of MWF\".format(a, b, c))\n",
    "print(\"PC2 is composed of {} of μFA, {} of C_md, and {} of MWF\".format(d, e, f))\n",
    "print(\"PC3 is composed of {} of μFA, {} of C_md, and {} of MWF\".format(g, h, i))\n",
    "\n",
    "##Explained variance ratio shows how much of data variance is due to each EIGENVECTOR. Then this code separates out how much each eigenvector is influenced by each metric.\n",
    "##So in total, eigvec1 is mostly driven by uFA/CMD, eigvec2 mostly by MWF etc. "
   ]
  },
  {
   "cell_type": "markdown",
   "id": "d734147c",
   "metadata": {},
   "source": [
    "### Make a Scree plot to show how many principal components are needed to explain the variance in the data"
   ]
  },
  {
   "cell_type": "code",
   "execution_count": 8,
   "metadata": {},
   "outputs": [
    {
     "name": "stdout",
     "output_type": "stream",
     "text": [
      "0     55.537115\n",
      "1     87.188733\n",
      "2    100.000000\n",
      "Name: Eigvals, dtype: float64\n"
     ]
    },
    {
     "data": {
      "text/plain": [
       "Text(0.5, 1.0, 'Explained Variance Ratio')"
      ]
     },
     "execution_count": 8,
     "metadata": {},
     "output_type": "execute_result"
    },
    {
     "data": {
      "image/png": "[encoded data removed]",
      "text/plain": [
       "<Figure size 432x288 with 1 Axes>"
      ]
     },
     "metadata": {
      "needs_background": "light"
     },
     "output_type": "display_data"
    }
   ],
   "source": [
    "##Scree plot to show how many principal components we need using the explained variance ratio\n",
    "screedata = pd.DataFrame()\n",
    "screedata['Eigvals'] = np.cumsum(pca.explained_variance_ratio_)*100\n",
    "print(screedata['Eigvals'])\n",
    "screedata['pcacomponents'] = [1,2,3]\n",
    "g = sns.lineplot(data=screedata, x='pcacomponents', y='Eigvals', marker='o')\n",
    "g.set_xlabel('Number of PCA components')\n",
    "g.set_ylabel('% Explained Variance')\n",
    "g.set_title(\"Explained Variance Ratio\")\n",
    "#plt.savefig('/Users/sharada/Documents/Projects/MDDE/V3/Plots/screeplot.png', bbox_inches='tight', dpi=300)"
   ]
  },
  {
   "cell_type": "markdown",
   "id": "a830c580",
   "metadata": {},
   "source": [
    "### Biplot plot to visualize the drivers of each principal component"
   ]
  },
  {
   "cell_type": "code",
   "execution_count": 9,
   "metadata": {},
   "outputs": [
    {
     "name": "stdout",
     "output_type": "stream",
     "text": [
      "Data Shape: (22964733, 3)\n",
      "\n",
      "[[ 0.68684278 -0.67322978  0.27387708]\n",
      " [-0.13938226  0.24781988  0.95872723]\n",
      " [-0.7133159  -0.69666848  0.07637701]]\n",
      "[ 0.68684278 -0.67322978  0.27387708]\n",
      "[0. 0. 0.]\n"
     ]
    },
    {
     "data": {
      "image/png": "[encoded data removed]",
      "text/plain": [
       "<Figure size 432x288 with 1 Axes>"
      ]
     },
     "metadata": {
      "needs_background": "light"
     },
     "output_type": "display_data"
    }
   ],
   "source": [
    "## Making a biplot, with the components dominating each vector indicated.\n",
    "feature_names = [r'$\\mu$FA', r'$C_{MD}$', 'MWF']\n",
    "\n",
    "scaler = StandardScaler().fit(df)\n",
    "scaled_data = scaler.transform(df)\n",
    "print(\"Data Shape: {}\\n\".format(scaled_data.shape))\n",
    "# print(scaled_data[0:5,:])  # Sanity check that each row is what it should be\n",
    "\n",
    "pca = PCA(n_components=3) #Was 3\n",
    "pca.fit_transform(scaled_data)\n",
    "\n",
    "# Initialize the 3D graph\n",
    "fig = plt.figure()\n",
    "ax = fig.add_subplot(111, projection='3d')\n",
    "\n",
    "# Define the x, y, z variables\n",
    "loadings = pca.components_\n",
    "print(loadings)\n",
    "xs = loadings[0]\n",
    "ys = loadings[1]\n",
    "zs = loadings[2]\n",
    "\n",
    "print(xs)\n",
    "\n",
    "# # Plot the loadings\n",
    "# for i, varnames in enumerate(feature_names): #Goes through 0:uFA, 1:CMD, 2:MWF and plots each of our PCA unit vector endpoints. Why does it associate them with those feature names though?\n",
    "#     print(i, varnames)\n",
    "#     print(xs[i], ys[i], zs[i])\n",
    "#     ax.scatter(xs[i], ys[i], zs[i], s=20) #point out position of tip of each eigenvector?\n",
    "#     ax.text(\n",
    "#         xs[i] + 0.1, \n",
    "#         ys[i] + 0.1, \n",
    "#         zs[i] + 0.1, \n",
    "#         varnames, fontsize=12)\n",
    "\n",
    "\n",
    "ax.scatter(xs[0], ys[0], zs[0], s=20)\n",
    "ax.text(xs[0]+0.15, ys[0]-0.05, zs[0]+0.25, feature_names[0], fontsize=12)\n",
    "ax.scatter(xs[1], ys[1], zs[1], s=20)\n",
    "ax.text(xs[1]+0.0, ys[1]+0.15, zs[1]-0.15, feature_names[1], fontsize=12)\n",
    "ax.scatter(xs[2], ys[2], zs[2], s=20)\n",
    "ax.text(xs[2]+0.0, ys[2]+0.15, zs[2]-0.15, feature_names[2], fontsize=12)\n",
    "\n",
    "# Plot the arrows\n",
    "x_arr = np.zeros(len(loadings[0]))\n",
    "print(x_arr)\n",
    "y_arr = z_arr = x_arr\n",
    "plt.quiver(x_arr, y_arr, z_arr, xs, ys, zs, color=['black','black','black'], alpha=0.5)\n",
    "ax.set_xlabel('PC1', fontsize=14)\n",
    "ax.set_ylabel('PC2', fontsize=14)\n",
    "ax.set_zlabel('PC3', fontsize=14)\n",
    "ax.xaxis.set_pane_color((1.0, 1.0, 1.0, 0.0))\n",
    "ax.yaxis.set_pane_color((1.0, 1.0, 1.0, 0.0))\n",
    "ax.zaxis.set_pane_color((1.0, 1.0, 1.0, 0.0))\n",
    "#ax.set_title('Loading plot of relationship between metrics and PCA space')\n",
    "ax.tick_params(length=0, pad=0, direction='in')\n",
    "#plt.savefig('/Users/sharada/Documents/Projects/MDDE/V3/Plots/loadingplot.png', bbox_inches='tight', dpi=300)\n",
    "\n",
    "## In the loading plot, axes are PCs and the 3 projections of metrics are drawn as arrows. Can also add their \"weighting\" (ie for each component, the max contribution to a PC). \n",
    "## Here the 3 metrics look pretty different/unrelated to each other and to the PCs, but MWF is more related to PC2, CMD more to PC3, uFA to PC1.\n",
    "## So it seems that each of the PCs is most influenced by a different metric! Combined with Scree plot, we would need 3 components to describe data so our 3 metrics are important."
   ]
  },
  {
   "cell_type": "code",
   "execution_count": null,
   "metadata": {},
   "outputs": [],
   "source": []
  }
 ],
 "metadata": {
  "kernelspec": {
   "display_name": "Python 3 (ipykernel)",
   "language": "python",
   "name": "python3"
  },
  "language_info": {
   "codemirror_mode": {
    "name": "ipython",
    "version": 3
   },
   "file_extension": ".py",
   "mimetype": "text/x-python",
   "name": "python",
   "nbconvert_exporter": "python",
   "pygments_lexer": "ipython3",
   "version": "3.8.9"
  }
 },
 "nbformat": 4,
 "nbformat_minor": 5
}
