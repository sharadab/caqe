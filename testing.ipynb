{
 "cells": [
  {
   "cell_type": "markdown",
   "id": "25161b72",
   "metadata": {},
   "source": [
    "## Once we have a classifier, we can run it on MS data to classify MS brain tissue."
   ]
  },
  {
   "cell_type": "code",
   "execution_count": 2,
   "id": "a40a0672",
   "metadata": {},
   "outputs": [],
   "source": [
    "import numpy as np \n",
    "from sklearn.preprocessing import StandardScaler\n",
    "from skops.io import dump, load\n",
    "import matplotlib.pyplot as plt\n",
    "from matplotlib.gridspec import GridSpec\n",
    "import seaborn as sns\n",
    "import pandas as pd\n",
    "import nibabel as nib\n",
    "import sklearn.metrics as metrics\n",
    "import skfuzzy as fuzz\n",
    "import time\n",
    "\n",
    "## Define folder where data lives right off the bat\n",
    "base_folder = \"/Users/sharada/Documents/Projects/MDDE/V3/SAMPLE/\""
   ]
  },
  {
   "cell_type": "markdown",
   "id": "0d658976",
   "metadata": {},
   "source": [
    "### Load in microstructure maps from test datasets (MS subjects) one at a time, classify each dataset based on the saved classifier. \n",
    "\n",
    "### Generate clustered maps for each subject. \n",
    "\n",
    "### Assumes that all maps are registered to the same space for each subject (e.g. MWF, uFA and CMD maps are registered), and a whole brain mask excluding CSF is present. To do this, see the processing/ folder.\n",
    "\n",
    "### Also repeat this for the atlases to generate the atlas of tissue classification."
   ]
  },
  {
   "cell_type": "code",
   "execution_count": 3,
   "id": "71135f63",
   "metadata": {},
   "outputs": [
    {
     "name": "stdout",
     "output_type": "stream",
     "text": [
      "mkdir: /Users/sharada/Documents/Projects/MDDE/V3/SAMPLE/LOBSTR_P026/clustering_outputs/: File exists\n"
     ]
    },
    {
     "name": "stdout",
     "output_type": "stream",
     "text": [
      "Classifying: LOBSTR_P026\n"
     ]
    },
    {
     "name": "stderr",
     "output_type": "stream",
     "text": [
      "/Users/sharada/Documents/Venvs/mri_venv_basic/lib/python3.8/site-packages/sklearn/neighbors/_classification.py:237: FutureWarning: Unlike other reduction functions (e.g. `skew`, `kurtosis`), the default behavior of `mode` typically preserves the axis it acts along. In SciPy 1.11.0, this behavior will change: the default value of `keepdims` will become False, the `axis` over which the statistic is taken will be eliminated, and the value None will no longer be accepted. Set `keepdims` to True or False to avoid this warning.\n",
      "  mode, _ = stats.mode(_y[neigh_ind, k], axis=1)\n"
     ]
    }
   ],
   "source": [
    "##Do each MS subject one by one. Also repeat for the atlas (file paths may need to change!).\n",
    "subject_list = [\"LOBSTR_P026\"]\n",
    "\n",
    "##The trained model we have saved. Can iterate through a few different models if needed.\n",
    "trained_models = [base_folder + '/model_6clusters.skops']\n",
    "\n",
    "##The number of clusters we are going with.\n",
    "cluster_numbers = [6]\n",
    "\n",
    "for subject in subject_list:\n",
    "    ##Set up folder names\n",
    "    folder_mask = base_folder + subject + \"/ants/CALIPR/\" ##Location of whole-brain mask excluding CSF\n",
    "    folder_metrics_mwf = base_folder + subject + \"/ants/CALIPR/\" ##Location of MWF map\n",
    "    folder_metrics_tvde = base_folder + subject + \"/ants/CALIPR_MDD/\" ##Location of uFA, CMD maps (registered to MWF space)\n",
    "    folder_clustering = base_folder + subject + \"/clustering_outputs/\" ##Output location\n",
    "    !mkdir {folder_clustering} ##Make the output folder\n",
    "\n",
    "    mask = nib.load(folder_mask+\"mask_no_csf.nii.gz\").get_fdata()  ##Whole brain mask excluding CSF\n",
    "    img_data_1 = nib.load(folder_metrics_tvde+\"ufa.nii.gz\").get_fdata()  ##uFA map\n",
    "    img_data_2 = nib.load(folder_metrics_tvde+\"cmd.nii.gz\").get_fdata()  ##C_MD map\n",
    "    img_data_3 = nib.load(folder_metrics_mwf+\"MWF_brain_ero.nii.gz\").get_fdata()  ##MWF map\n",
    "\n",
    "    ##Separately, hold on to the mask data in this format as we will need its header later on when we generate an image.\n",
    "    img_mask = nib.load(folder_mask+\"mask_no_csf.nii.gz\") \n",
    "\n",
    "    ##Wherever the mask is 1, take only that metric data into account.\n",
    "    img_1_nonzero = img_data_1[mask == 1]\n",
    "    img_2_nonzero = img_data_2[mask == 1]\n",
    "    img_3_nonzero = img_data_3[mask == 1]\n",
    "\n",
    "    print(\"Classifying: \" + subject)\n",
    "\n",
    "    ##Put all metric data into one cohesive dataframe.\n",
    "    df_test = pd.DataFrame() \n",
    "    df_test['img_1'] = img_1_nonzero\n",
    "    df_test['img_2'] = img_2_nonzero\n",
    "    df_test['img_3'] = img_3_nonzero\n",
    "\n",
    "    ##Scale the test dataset (normalize), as we did with the training data.\n",
    "    scaler_test = StandardScaler().fit(df_test)\n",
    "    scaled_data_test = scaler_test.transform(df_test)\n",
    "\n",
    "    ##Load in the pre-trained models one by one and run on the data\n",
    "    for model in trained_models:\n",
    "        i = 0 \n",
    "        \n",
    "        ##Load in classifier model\n",
    "        loaded_knn = load(model, trusted=True)\n",
    "\n",
    "        ##Run the loaded classifier on our data. This will give us a label for each data point.\n",
    "        labeled_test = loaded_knn.predict(scaled_data_test)\n",
    "\n",
    "        ##Now transform the labels back into the shape of a brain and save as NIFTI.\n",
    "        reshaped_labels = mask.copy() ##We only want to write back into regions that are 1 on the mask\n",
    "        reshaped_labels[mask==1] = labeled_test + 1 ##Adding the +1 because labels are 0,1,2... and it gets confusing to look at a 0 region on FSL!\n",
    "        new_header = img_mask.header.copy() \n",
    "        ni_img = nib.Nifti1Image(reshaped_labels, None, header=new_header) \n",
    "        nib.save(ni_img, folder_clustering+\"new_labels_fuzzc_knn{}.nii.gz\".format(cluster_numbers[i])) ##Saving as NIFTI here with the same header as the mask.\n",
    "    "
   ]
  },
  {
   "cell_type": "markdown",
   "id": "67cd8f93",
   "metadata": {},
   "source": [
    "### Now we have microstructure maps showing different features as different clusters. To ensure consistency in the numbering of clusters and organize it as in the paper (by order of MWF), we need to re-number the clusters carefully."
   ]
  },
  {
   "cell_type": "code",
   "execution_count": 4,
   "id": "b69ffe06",
   "metadata": {},
   "outputs": [
    {
     "name": "stdout",
     "output_type": "stream",
     "text": [
      "LOBSTR_P026\n"
     ]
    }
   ],
   "source": [
    "##Go over all test subjects and re-colour by number.\n",
    "subject_list = [\"LOBSTR_P026\"] \n",
    "\n",
    "for subject in subject_list:\n",
    "    print(subject)\n",
    "\n",
    "    ##Set up folder names\n",
    "    folder_clustering = base_folder + subject + \"/clustering_outputs/\" ##Location of clustering output\n",
    "    folder_mask = base_folder + subject + \"/ants/CALIPR/\" ##Location of whole brain mask excluding CSF\n",
    "\n",
    "    ##Load in mask and clustered data\n",
    "    img_mask = nib.load(folder_mask+\"mask_no_csf.nii.gz\")\n",
    "    mask = nib.load(folder_mask+\"mask_no_csf.nii.gz\").get_fdata()\n",
    "    clustered = nib.load(folder_clustering + \"new_labels_fuzzc_knn6.nii.gz\").get_fdata() ##Clustered data\n",
    " \n",
    "    #Wherever the mask is 1, take that metric data into account.\n",
    "    data_nonzero = clustered[mask== 1]\n",
    "\n",
    "    ##Re-number the clusters by first calling everything the negative of itself, then replacing it by the correct new number.\n",
    "    data_nonzero[data_nonzero==1] = -1\n",
    "    data_nonzero[data_nonzero==2] = -2\n",
    "    data_nonzero[data_nonzero==3] = -3\n",
    "    data_nonzero[data_nonzero==4] = -4\n",
    "    data_nonzero[data_nonzero==5] = -5\n",
    "    data_nonzero[data_nonzero==6] = -6\n",
    "    # data_nonzero[data_nonzero==7] = -7\n",
    "    # data_nonzero[data_nonzero==8] = -8\n",
    "    # data_nonzero[data_nonzero==9] = -9\n",
    "    # data_nonzero[data_nonzero==10] = -10\n",
    "\n",
    "    ##Be careful of this-- it changes depending on training dataset!\n",
    "    data_nonzero[data_nonzero==-1] = 4+1\n",
    "    data_nonzero[data_nonzero==-2] = 3+1\n",
    "    data_nonzero[data_nonzero==-3] = 5+1\n",
    "    data_nonzero[data_nonzero==-4] = 2+1\n",
    "    data_nonzero[data_nonzero==-5] = 6+1\n",
    "    data_nonzero[data_nonzero==-6] = 1+1\n",
    "    # data_nonzero[data_nonzero==-7] = 0\n",
    "    # data_nonzero[data_nonzero==-8] = 0\n",
    "    # data_nonzero[data_nonzero==-9] = 0\n",
    "    # data_nonzero[data_nonzero==-10] = 0\n",
    "\n",
    "    changed_clusters = data_nonzero\n",
    "\n",
    "    ##Now transform the labels back into the shape of a brain and convert it to NIFTI.\n",
    "    reshaped_labels = mask.copy() ##Only filling in wherever the mask is non-zero\n",
    "    # Replacing cluster labels\n",
    "    reshaped_labels[mask==1] = changed_clusters\n",
    "    new_header = img_mask.header.copy()\n",
    "    ni_img = nib.Nifti1Image(reshaped_labels, None, header=new_header)\n",
    "    nib.save(ni_img, folder_clustering+\"recoloured_6cluster.nii.gz\") ##Writing it to a new NIFTI. \n",
    "    !fslmaths {folder_clustering}/recoloured_6cluster.nii.gz -add {folder_mask}/csf_mask.nii.gz {folder_clustering}/recoloured_6cluster.nii.gz ##Adding in the CSF mask so ventricles don't look like a black hole\n"
   ]
  },
  {
   "cell_type": "markdown",
   "id": "66fc728c",
   "metadata": {},
   "source": [
    "### From here on, use recoloured_6cluster.nii.gz as the tissue classification map. This will be consistent cluster numbering for all subjects."
   ]
  },
  {
   "cell_type": "markdown",
   "id": "b204d54c",
   "metadata": {},
   "source": [
    "### Also classify the metric atlases (the same as above, but repeated here for completeness with correct file paths for the atlases). This will make the atlas of tissue classification, the target for comparison of all MS people."
   ]
  },
  {
   "cell_type": "code",
   "execution_count": 18,
   "id": "66bc5a12",
   "metadata": {},
   "outputs": [
    {
     "name": "stdout",
     "output_type": "stream",
     "text": [
      "mkdir: /Users/sharada/Documents/Projects/MDDE/V3/SAMPLE/atlas/clustering_outputs/: File exists\n"
     ]
    },
    {
     "name": "stdout",
     "output_type": "stream",
     "text": [
      "Classifying: atlas\n"
     ]
    },
    {
     "name": "stderr",
     "output_type": "stream",
     "text": [
      "/Users/sharada/Documents/Venvs/mri_venv_basic/lib/python3.8/site-packages/sklearn/neighbors/_classification.py:237: FutureWarning: Unlike other reduction functions (e.g. `skew`, `kurtosis`), the default behavior of `mode` typically preserves the axis it acts along. In SciPy 1.11.0, this behavior will change: the default value of `keepdims` will become False, the `axis` over which the statistic is taken will be eliminated, and the value None will no longer be accepted. Set `keepdims` to True or False to avoid this warning.\n",
      "  mode, _ = stats.mode(_y[neigh_ind, k], axis=1)\n"
     ]
    }
   ],
   "source": [
    "## Classifying the atlas uses the same procedure, repeated here for completeness with its correct file paths.\n",
    "subject_list = [\"atlas\"]\n",
    "\n",
    "##The trained model we have saved. Can iterate through a few different models if needed.\n",
    "trained_models = [base_folder + 'model_6clusters.skops']\n",
    "\n",
    "##The number of clusters we are going with.\n",
    "cluster_numbers = [6]\n",
    "\n",
    "for subject in subject_list:\n",
    "    ##Set up folder names\n",
    "    folder_mask = base_folder + subject + \"/\" ##Location of whole-brain mask excluding CSF\n",
    "    folder_metrics_mwf = base_folder + subject + \"/\" ##Location of MWF map\n",
    "    folder_metrics_tvde = base_folder + subject + \"/\" ##Location of uFA, CMD maps (registered to MWF space)\n",
    "    folder_clustering = base_folder + subject + \"/clustering_outputs/\" ##Output location\n",
    "    !mkdir {folder_clustering} ##Make the output folder\n",
    "\n",
    "    mask = nib.load(folder_mask+\"mask_no_csf.nii.gz\").get_fdata()  ##Whole brain mask excluding CSF\n",
    "    img_data_1 = nib.load(folder_metrics_tvde+\"ufa_atlas.nii.gz\").get_fdata()  ##uFA map\n",
    "    img_data_2 = nib.load(folder_metrics_tvde+\"cmd_atlas.nii.gz\").get_fdata()  ##C_MD map\n",
    "    img_data_3 = nib.load(folder_metrics_mwf+\"mwf_atlas.nii.gz\").get_fdata()  ##MWF map\n",
    "\n",
    "    ##Separately, hold on to the mask data in this format as we will need its header later on when we generate an image.\n",
    "    img_mask = nib.load(folder_mask+\"mask_no_csf.nii.gz\") \n",
    "\n",
    "    ##Wherever the mask is 1, take only that metric data into account.\n",
    "    img_1_nonzero = img_data_1[mask == 1]\n",
    "    img_2_nonzero = img_data_2[mask == 1]\n",
    "    img_3_nonzero = img_data_3[mask == 1]\n",
    "\n",
    "    print(\"Classifying: \" + subject)\n",
    "\n",
    "    ##Put all metric data into one cohesive dataframe.\n",
    "    df_test = pd.DataFrame() \n",
    "    df_test['img_1'] = img_1_nonzero\n",
    "    df_test['img_2'] = img_2_nonzero\n",
    "    df_test['img_3'] = img_3_nonzero\n",
    "\n",
    "    ##Scale the test dataset (normalize), as we did with the training data.\n",
    "    scaler_test = StandardScaler().fit(df_test)\n",
    "    scaled_data_test = scaler_test.transform(df_test)\n",
    "\n",
    "    ##Load in the pre-trained models one by one and run on the data\n",
    "    for model in trained_models:\n",
    "        i = 0 \n",
    "        \n",
    "        ##Load in classifier model\n",
    "        loaded_knn = load(model, trusted=True)\n",
    "\n",
    "        ##Run the loaded classifier on our data. This will give us a label for each data point.\n",
    "        labeled_test = loaded_knn.predict(scaled_data_test)\n",
    "\n",
    "        ##Now transform the labels back into the shape of a brain and save as NIFTI.\n",
    "        reshaped_labels = mask.copy() ##We only want to write back into regions that are 1 on the mask\n",
    "        reshaped_labels[mask==1] = labeled_test + 1 ##Adding the +1 because labels are 0,1,2... and it gets confusing to look at a 0 region on FSL!\n",
    "        new_header = img_mask.header.copy() \n",
    "        ni_img = nib.Nifti1Image(reshaped_labels, None, header=new_header) \n",
    "        nib.save(ni_img, folder_clustering+\"new_labels_fuzzc_knn{}.nii.gz\".format(cluster_numbers[i])) ##Saving as NIFTI here with the same header as the mask.\n",
    "    \n",
    "\n",
    "        ##Load in mask and clustered data\n",
    "        img_mask = nib.load(folder_mask+\"mask_no_csf.nii.gz\")\n",
    "        mask = nib.load(folder_mask+\"mask_no_csf.nii.gz\").get_fdata()\n",
    "        clustered = nib.load(folder_clustering + \"new_labels_fuzzc_knn6.nii.gz\").get_fdata() ##Clustered data\n",
    "    \n",
    "        #Wherever the mask is 1, take that metric data into account.\n",
    "        data_nonzero = clustered[mask== 1]\n",
    "\n",
    "        ##Re-number the clusters by first calling everything the negative of itself, then replacing it by the correct new number.\n",
    "        data_nonzero[data_nonzero==1] = -1\n",
    "        data_nonzero[data_nonzero==2] = -2\n",
    "        data_nonzero[data_nonzero==3] = -3\n",
    "        data_nonzero[data_nonzero==4] = -4\n",
    "        data_nonzero[data_nonzero==5] = -5\n",
    "        data_nonzero[data_nonzero==6] = -6\n",
    "        # data_nonzero[data_nonzero==7] = -7\n",
    "        # data_nonzero[data_nonzero==8] = -8\n",
    "        # data_nonzero[data_nonzero==9] = -9\n",
    "        # data_nonzero[data_nonzero==10] = -10\n",
    "\n",
    "        ##Be careful of this-- it changes depending on training dataset!\n",
    "        ##Be careful of this-- it changes depending on training dataset!\n",
    "        data_nonzero[data_nonzero==-1] = 4+1\n",
    "        data_nonzero[data_nonzero==-2] = 3+1\n",
    "        data_nonzero[data_nonzero==-3] = 5+1\n",
    "        data_nonzero[data_nonzero==-4] = 2+1\n",
    "        data_nonzero[data_nonzero==-5] = 6+1\n",
    "        data_nonzero[data_nonzero==-6] = 1+1\n",
    "        # data_nonzero[data_nonzero==-7] = 0\n",
    "        # data_nonzero[data_nonzero==-8] = 0\n",
    "        # data_nonzero[data_nonzero==-9] = 0\n",
    "        # data_nonzero[data_nonzero==-10] = 0\n",
    "\n",
    "        changed_clusters = data_nonzero\n",
    "\n",
    "        ##Now transform the labels back into the shape of a brain and convert it to NIFTI.\n",
    "        reshaped_labels = mask.copy() ##Only filling in wherever the mask is non-zero\n",
    "        # Replacing cluster labels\n",
    "        reshaped_labels[mask==1] = changed_clusters\n",
    "        new_header = img_mask.header.copy()\n",
    "        ni_img = nib.Nifti1Image(reshaped_labels, None, header=new_header)\n",
    "        nib.save(ni_img, folder_clustering+\"recoloured_6cluster.nii.gz\") ##Writing it to a new NIFTI. \n",
    "        ##Adding in the CSF mask so ventricles don't look like a black hole, total number of clusters is then 7 but 1 is just CSF.\n",
    "        !fslmaths {folder_clustering}/recoloured_6cluster.nii.gz -add {folder_mask}/csf_mask.nii.gz {folder_clustering}/recoloured_6cluster.nii.gz \n"
   ]
  },
  {
   "cell_type": "code",
   "execution_count": null,
   "id": "9f811290",
   "metadata": {},
   "outputs": [],
   "source": []
  }
 ],
 "metadata": {
  "kernelspec": {
   "display_name": "Python 3 (ipykernel)",
   "language": "python",
   "name": "python3"
  },
  "language_info": {
   "codemirror_mode": {
    "name": "ipython",
    "version": 3
   },
   "file_extension": ".py",
   "mimetype": "text/x-python",
   "name": "python",
   "nbconvert_exporter": "python",
   "pygments_lexer": "ipython3",
   "version": "3.8.9"
  }
 },
 "nbformat": 4,
 "nbformat_minor": 5
}
